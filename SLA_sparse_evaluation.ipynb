{
 "cells": [
  {
   "cell_type": "code",
   "execution_count": null,
   "metadata": {},
   "outputs": [],
   "source": [
    "import os\n",
    "import numpy as np\n",
    "import matplotlib.pyplot as plt\n",
    "from PIL import Image\n",
    "\n",
    "from math import ceil\n",
    "from scipy.linalg import sqrtm\n",
    "from scipy.sparse.linalg import svds\n",
    "from scipy.sparse import lil_matrix, csr_matrix, diags"
   ]
  },
  {
   "cell_type": "markdown",
   "metadata": {},
   "source": [
    "## Algorithm"
   ]
  },
  {
   "cell_type": "code",
   "execution_count": null,
   "metadata": {},
   "outputs": [],
   "source": [
    "def gen_columns(M):\n",
    "    '''\n",
    "    Yileds columns of matrix M. Prevents from out-of-order access\n",
    "    to matrix columns. It can be used to simulate data streaming.\n",
    "    '''\n",
    "    for i in range(M.shape[1]):\n",
    "        yield M[:, i]"
   ]
  },
  {
   "cell_type": "code",
   "execution_count": null,
   "metadata": {},
   "outputs": [],
   "source": [
    "def sample_entry(M, delta):\n",
    "    \n",
    "    A = lil_matrix(M.shape, dtype=np.float64)\n",
    "    \n",
    "    for i in range(M.shape[1]):\n",
    "        sample = np.random.choice(2, M.shape[0], p=[1 - delta, delta])\n",
    "        A[:, i] = (M[:, i] * sample).reshape(-1, 1)\n",
    "\n",
    "    return A"
   ]
  },
  {
   "cell_type": "code",
   "execution_count": null,
   "metadata": {},
   "outputs": [],
   "source": [
    "def SPCA(C, k):\n",
    "    omega = np.random.randn(C.shape[1], k)\n",
    "    omega = csr_matrix(omega)\n",
    "    \n",
    "    _C = lil_matrix(C.shape)\n",
    "    \n",
    "    # Trimming\n",
    "    for i in range (C.shape[0]):\n",
    "        if (C.getrow(i).count_nonzero() > 10):\n",
    "            _C[i, :] = 0\n",
    "        else:\n",
    "            _C[i, :] = C[i, :]\n",
    "    \n",
    "    _C = _C.tocsr()\n",
    "    \n",
    "    diag_matrix = diags(diagonals=((_C.T @ _C).diagonal()), offsets=0, format=\"csr\")\n",
    "    \n",
    "    F = _C.T @ _C - diag_matrix\n",
    "    F = F.todense()\n",
    "    power = int(np.ceil(5 * np.log(C.shape[1])))\n",
    "        \n",
    "    F = np.linalg.matrix_power(F, power)\n",
    "    F = F @ omega\n",
    "    Q, _ = np.linalg.qr(F)\n",
    "\n",
    "    return csr_matrix(Q[:, :k])"
   ]
  },
  {
   "cell_type": "code",
   "execution_count": null,
   "metadata": {},
   "outputs": [],
   "source": [
    "def SLA(M_cols, m, n, k, delta, l):\n",
    "    \n",
    "   #l_samples = list(np.random.choice(n, l, replace=True))\n",
    "    l_samples = np.arange(l)\n",
    "    \n",
    "    M_l = np.empty((m, l)) # M_l is matrix of first l columns\n",
    "    \n",
    "    for j in l_samples:\n",
    "        M_l[:, j] = next(M_cols)\n",
    "        \n",
    "    A_b1 = sample_entry(M_l, delta).tocsr()\n",
    "    A_b2 = sample_entry(M_l, delta)\n",
    "    \n",
    "    del M_l\n",
    "    \n",
    "    Q = SPCA(A_b1, k)\n",
    "    \n",
    "    for i in range(m):\n",
    "        if ((A_b2.getrow(i).count_nonzero()) > 2):\n",
    "            A_b2[i, :] = 0\n",
    "            \n",
    "    for i in range(l):\n",
    "        if ((A_b2.getcol(i).count_nonzero()) > 10 * delta * m):\n",
    "            A_b2[:, i] = 0\n",
    "    \n",
    "    A_b2 = A_b2.tocsr()\n",
    "    W = A_b2 @ Q\n",
    "    V = lil_matrix((n, k))\n",
    "    \n",
    "    V[:l, :] = A_b1.T @ W\n",
    "    I = A_b1 @ V[:l, :]\n",
    "    \n",
    "    for t in range(l, n):\n",
    "        sample = np.random.choice(2, m, p=[1 - delta, delta])\n",
    "        A_t = csr_matrix(next(M_cols) * sample)\n",
    "        V[t, :] = A_t.reshape(1, -1) @ W\n",
    "        I += A_t.reshape(-1, 1) @ V[t, :].reshape(1, -1)\n",
    "    \n",
    "    V = V.tocsr()\n",
    "    R = sqrtm((V.T @ V).todense())\n",
    "    R = np.linalg.inv(R)\n",
    "    \n",
    "    U = (1.0 / delta) * (I @ R @ R.T)    \n",
    "    M_k = U @ V.T\n",
    "    \n",
    "    return M_k      "
   ]
  },
  {
   "cell_type": "markdown",
   "metadata": {},
   "source": [
    "## Evaluation"
   ]
  },
  {
   "cell_type": "code",
   "execution_count": null,
   "metadata": {},
   "outputs": [],
   "source": [
    "import scipy.sparse.linalg as lin"
   ]
  },
  {
   "cell_type": "code",
   "execution_count": null,
   "metadata": {},
   "outputs": [],
   "source": [
    "def compress(image, k): \n",
    "    if len(image.shape) == 2:\n",
    "        image = np.reshape(image, newshape=(image.shape[0],image.shape[1],1))\n",
    "    reconst_matrix = np.empty(shape=image.shape)\n",
    "    for channel in range(image.shape[2]):\n",
    "        u,s,v = lin.svds(image[:,:,channel],k)\n",
    "        reconst_matrix[:,:,channel] = u@np.diag(s)@v\n",
    "    reconst_matrix = np.clip(reconst_matrix, 0, 255).astype(np.uint8)\n",
    "    return reconst_matrix"
   ]
  },
  {
   "cell_type": "code",
   "execution_count": null,
   "metadata": {},
   "outputs": [],
   "source": [
    "def genenerate_time_matrices_k(**kwargs):\n",
    "    import time\n",
    "    import copy\n",
    "    \n",
    "    k_array = np.array(kwargs['k_array'])\n",
    "    delta = kwargs['delta']\n",
    "    l = kwargs['l']\n",
    "    n_repeats = kwargs['n_repeats']    \n",
    "    \n",
    "    sla_compressor = lambda x,k,m,n: SLA(x, delta=delta, k=k, m=m, n=n, l=l)\n",
    "    svd_compressor = lambda x,k: compress(x,k)\n",
    "        \n",
    "    powers = [3,3.1,3.2,3.3,3.4,3.5,3.6]#,3.7,3.8,4.]\n",
    "    svd_time = np.empty(shape=(len(powers), len(k_array)))\n",
    "    sla_time = np.empty(shape=(len(powers), len(k_array)))\n",
    "    \n",
    "    np.random.seed(30)\n",
    "    for i,p in enumerate(powers):            \n",
    "            svd_round_time = np.empty(len(k_array))\n",
    "            sla_round_time = np.empty(len(k_array))\n",
    "            \n",
    "            #for _ in range(n_repeats):\n",
    "            for j,k in enumerate(k_array):\n",
    "                img = np.random.rand(int(10**p),int(10**p))\n",
    "\n",
    "                #for j,k in enumerate(k_array):\n",
    "                for _ in range(n_repeats):\n",
    "                    img_col = gen_columns(copy.copy(img))\n",
    "                    m,n = img.shape\n",
    "                    tpoint = time.time()\n",
    "                    sla_compressor(img_col,k,m,n)\n",
    "                    sla_round_time[j] = time.time()-tpoint\n",
    "                    \n",
    "                    tpoint = time.time()\n",
    "                    svd_compressor(img,k)\n",
    "                    svd_round_time[j] = time.time()-tpoint\n",
    "\n",
    "            svd_time[i,:] = svd_round_time/n_repeats\n",
    "            sla_time[i,:] = sla_round_time/n_repeats\n",
    "            \n",
    "    return powers, k_array, svd_time, sla_time"
   ]
  },
  {
   "cell_type": "code",
   "execution_count": null,
   "metadata": {},
   "outputs": [],
   "source": [
    "def compare_plot(powers, k_array, svd_time, sla_time):\n",
    "    plt.figure(figsize=(12,8))\n",
    "    for i in range(len(k_array)):\n",
    "        plt.plot(powers, svd_time[:,i], label='svd, k={}'.format(k_array[i]))\n",
    "        plt.plot(powers, sla_time[:,i], label='sla, k={}'.format(k_array[i]))\n",
    "    #plt.plot(powers, svd_time_d1, label='ssss')\n",
    "    plt.yscale('log')\n",
    "    plt.legend(fontsize=18)\n",
    "    plt.title(\"Complexity plot in loglog scale\", fontsize=18)\n",
    "    plt.ylabel('Time',fontsize=18)\n",
    "    plt.xlabel('Matrix size',fontsize=18)\n",
    "    plt.xticks(fontsize=18)\n",
    "    plt.yticks(fontsize=18)\n",
    "    plt.show()"
   ]
  },
  {
   "cell_type": "code",
   "execution_count": null,
   "metadata": {},
   "outputs": [],
   "source": [
    "powers, k_array, svd_time, sla_time = genenerate_time_matrices(k_array=[8,10,12],l=20,delta=.1,n_repeats=10)"
   ]
  },
  {
   "cell_type": "code",
   "execution_count": null,
   "metadata": {},
   "outputs": [],
   "source": [
    "compare_plot(powers[0:7], k_array, svd_time[0:7,:], sla_time[0:7,:])"
   ]
  },
  {
   "cell_type": "code",
   "execution_count": null,
   "metadata": {},
   "outputs": [],
   "source": [
    "def genenerate_time_matrices_d(**kwargs):\n",
    "    import time\n",
    "    import itertools\n",
    "    \n",
    "    #k_array = kwargs['k_array']\n",
    "    k = kwargs['k_array']\n",
    "    delta = np.array(kwargs['delta'])\n",
    "    l = kwargs['l']\n",
    "    n_repeats = kwargs['n_repeats']    \n",
    "    \n",
    "    sla_compressor = lambda x,delta,m,n: SLA(x, delta=delta, k=k, m=m, n=n, l=l)\n",
    "    svd_compressor = lambda x: compress(x,k)\n",
    "    \n",
    "    #params = \n",
    "        \n",
    "    powers = [3,3.1,3.2,3.3,3.4,3.5,3.6,3.7,3.8,4.]\n",
    "    svd_time = np.empty(len(powers))\n",
    "    sla_time = np.empty(shape=(len(powers), len(delta)))\n",
    "    \n",
    "    np.random.seed(30)\n",
    "    for i,p in enumerate(powers):            \n",
    "        svd_round_time = []\n",
    "        sla_round_time = np.empty(len(delta))\n",
    "            \n",
    "        #for _ in range(n_repeats):\n",
    "        for j,d in enumerate(delta):\n",
    "            img = np.random.rand(int(10**p),int(10**p))\n",
    "\n",
    "            #for j,k in enumerate(k_array):\n",
    "            for _ in range(n_repeats):\n",
    "                img_col = gen_columns(img)\n",
    "                m,n = img.shape\n",
    "                tpoint = time.time()\n",
    "                sla_compressor(img_col,d,m,n)\n",
    "                sla_round_time[j] = time.time()-tpoint\n",
    "                \n",
    "                if j == 0:\n",
    "                    tpoint = time.time()\n",
    "                    svd_compressor(img)\n",
    "                    svd_round_time.append(time.time()-tpoint)\n",
    "\n",
    "        svd_time[i] = np.mean(svd_round_time)\n",
    "        sla_time[i,:] = sla_round_time/n_repeats\n",
    "            \n",
    "    return powers, delta, svd_time, sla_time"
   ]
  },
  {
   "cell_type": "code",
   "execution_count": null,
   "metadata": {},
   "outputs": [],
   "source": [
    "powers_d, k_array_d, svd_time_d, sla_time_d = genenerate_time_matrices(k_array=10,l=20,\\\n",
    "                                                                       delta=[.1,.2,.4,.07],n_repeats=10)"
   ]
  },
  {
   "cell_type": "code",
   "execution_count": null,
   "metadata": {},
   "outputs": [],
   "source": [
    "def compare_plot(powers, k_array, svd_time, sla_time):\n",
    "    plt.figure(figsize=(12,8))\n",
    "    for i in range(len(k_array)):\n",
    "        plt.plot(powers, sla_time[:,i], label='sla, k={}'.format(k_array[i]))\n",
    "        \n",
    "    plt.plot(powers, svd_time, label='svd')\n",
    "    plt.yscale('log')\n",
    "    plt.legend(fontsize=18)\n",
    "    plt.title(\"Complexity plot in loglog scale\", fontsize=18)\n",
    "    plt.ylabel('Time',fontsize=18)\n",
    "    plt.xlabel('Matrix size',fontsize=18)\n",
    "    plt.xticks(fontsize=18)\n",
    "    plt.yticks(fontsize=18)\n",
    "    plt.show()"
   ]
  },
  {
   "cell_type": "code",
   "execution_count": null,
   "metadata": {},
   "outputs": [],
   "source": [
    "compare_plot(powers_d, k_array_d, svd_time_d, sla_time_d)"
   ]
  },
  {
   "cell_type": "code",
   "execution_count": null,
   "metadata": {},
   "outputs": [],
   "source": []
  },
  {
   "cell_type": "code",
   "execution_count": null,
   "metadata": {},
   "outputs": [],
   "source": [
    "def compare_by_delta(matrix_size, k, l, n_repeats=30 ):\n",
    "    import time\n",
    "    import copy\n",
    "    \n",
    "    sla_compressor = lambda x,m,n, delta: SLA(x, delta=delta, k=k, m=m, n=n, l=l)\n",
    "    \n",
    "    delta_array = np.arange(start=.01,stop=.4,step=.03)\n",
    "    \n",
    "    times = []\n",
    "    img = np.random.rand(int(10**matrix_size),int(10**matrix_size))\n",
    "    m,n = img.shape\n",
    "    for delta in delta_array:\n",
    "        print(delta)\n",
    "        round_time = []\n",
    "        for _ in range(n_repeats):\n",
    "            img_col = gen_columns(copy.copy(img))\n",
    "            tpoint = time.time()\n",
    "            sla_compressor(img_col,m,n, delta)\n",
    "            round_time.append(time.time()-tpoint)\n",
    "        times.append(np.mean(round_time))\n",
    "    \n",
    "    return delta_array, times"
   ]
  },
  {
   "cell_type": "code",
   "execution_count": null,
   "metadata": {},
   "outputs": [],
   "source": [
    "def compare_by_k(matrix_size, delta, l, n_repeats=10 ):\n",
    "    import time\n",
    "    import copy\n",
    "    \n",
    "    sla_compressor = lambda x,m,n,k: SLA(x, delta=delta, k=k, m=m, n=n, l=l)\n",
    "    \n",
    "    k_array = np.arange(1,np.int(l/2), step=2)\n",
    "    \n",
    "    times = []\n",
    "    img = np.random.rand(int(10**matrix_size),int(10**matrix_size))\n",
    "    m,n = img.shape\n",
    "    for k in k_array:\n",
    "        print(k)\n",
    "        round_time = []\n",
    "        for _ in range(n_repeats):\n",
    "            img_col = gen_columns(copy.copy(img))\n",
    "            tpoint = time.time()\n",
    "            sla_compressor(img_col,m,n,k)\n",
    "            round_time.append(time.time()-tpoint)\n",
    "        times.append(np.mean(round_time))\n",
    "    \n",
    "    return k_array, times"
   ]
  },
  {
   "cell_type": "code",
   "execution_count": null,
   "metadata": {},
   "outputs": [],
   "source": [
    "k_array, k_times = compare_by_k(3.4, .1, 20)"
   ]
  },
  {
   "cell_type": "code",
   "execution_count": null,
   "metadata": {},
   "outputs": [],
   "source": [
    "plt.figure(figsize=(12,8))\n",
    "plt.plot(k_array, k_times)"
   ]
  },
  {
   "cell_type": "code",
   "execution_count": null,
   "metadata": {},
   "outputs": [],
   "source": [
    "delta_array1, delta_times1 = compare_by_delta(3.4, 10, 20, 10)"
   ]
  },
  {
   "cell_type": "code",
   "execution_count": null,
   "metadata": {},
   "outputs": [],
   "source": [
    "plt.figure(figsize=(12,8))\n",
    "plt.plot(delta_array1, delta_times1)\n",
    "plt.xlabel(r'$\\delta$', fontsize=15)\n",
    "plt.ylabel('Time', fontsize=15)\n",
    "plt.xticks(fontsize=15)\n",
    "plt.yticks(fontsize=15)\n",
    "#plt.title(r'Time($\\delta$) for matrix from $\\mathbb{R}^{2500\\times 2500}$', fontsize=15)\n",
    "plt.show()"
   ]
  }
 ],
 "metadata": {
  "kernelspec": {
   "display_name": "Python 3",
   "language": "python",
   "name": "python3"
  },
  "language_info": {
   "codemirror_mode": {
    "name": "ipython",
    "version": 3
   },
   "file_extension": ".py",
   "mimetype": "text/x-python",
   "name": "python",
   "nbconvert_exporter": "python",
   "pygments_lexer": "ipython3",
   "version": "3.6.6"
  }
 },
 "nbformat": 4,
 "nbformat_minor": 2
}
