{
 "cells": [
  {
   "cell_type": "code",
   "execution_count": 1,
   "metadata": {},
   "outputs": [],
   "source": [
    "import numpy as np\n",
    "from scipy.linalg import sqrtm"
   ]
  },
  {
   "cell_type": "code",
   "execution_count": 2,
   "metadata": {},
   "outputs": [],
   "source": [
    "def sample_entry(M, delta):\n",
    "    \n",
    "    print (delta)\n",
    "    \n",
    "    for i in range(M.shape[1]):\n",
    "        sample = np.random.choice(2, M.shape[0], p=[1 - delta, delta])\n",
    "        M[:, i] = M[:, i] * sample\n",
    "\n",
    "    return M"
   ]
  },
  {
   "cell_type": "code",
   "execution_count": 304,
   "metadata": {},
   "outputs": [],
   "source": [
    "def SPCA(C, k):\n",
    "    omega = np.random.randn(C.shape[1], k)\n",
    "    \n",
    "    print (\"gauss random matrix shape \", omega.shape)\n",
    "    \n",
    "    _C = np.zeros(C.shape)\n",
    "    # Trimming\n",
    "    for i in range (C.shape[0]):\n",
    "        if (np.count_nonzero(C[i,:]) > 10):\n",
    "            _C[i,:] = 0\n",
    "        else:\n",
    "            _C[i,:] = C[i,:]\n",
    "    print (\"_C shape \", _C.shape)        \n",
    "    \n",
    "    F = _C.T @ _C - np.diag(np.diag( _C.T @ _C))\n",
    "    \n",
    "    print (\"F shape \", F.shape)\n",
    "    \n",
    "    QR = (np.linalg.matrix_power(F,\n",
    "                                 int(np.ceil(5 * np.log(C.shape[1])))) @ omega)\n",
    "    \n",
    "    print (\"QR shape \", QR.shape)\n",
    "    \n",
    "    Q, _ = np.linalg.qr(QR)\n",
    "    \n",
    "    return Q[:, :k]"
   ]
  },
  {
   "cell_type": "code",
   "execution_count": 433,
   "metadata": {},
   "outputs": [],
   "source": [
    "def SLA(M, k, delta, l):\n",
    "    \n",
    "    M = M.astype(np.float64)\n",
    "    \n",
    "    m, n = M.shape[0], M.shape[1]\n",
    "    print (\"k \", k)\n",
    "    print (\"l \", l)\n",
    "    print (\"M shape \", M.shape)\n",
    "    \n",
    "    l_samples = list(np.random.choice(n, l, replace=True))\n",
    "    #l_samples = np.arange(l)\n",
    "    \n",
    "    print (\"sample len \", len(l_samples))\n",
    "        \n",
    "    A_b1 = sample_entry(M[:, l_samples], delta)\n",
    "    A_b2 = sample_entry(M[:, l_samples], delta)\n",
    "    print(\"A_b1 shape \", A_b1.shape)\n",
    "    #print(A_b1)\n",
    "    #print(A_b2)\n",
    "    Q = SPCA(A_b1, k)\n",
    "    print(\"Q shape \", Q.shape)\n",
    "    \n",
    "    M = np.delete(M, l_samples, 1)\n",
    "    \n",
    "    for i in range(m):\n",
    "        if (np.count_nonzero(A_b2[i, :]) > 2):\n",
    "            A_b2[i, :] = 0\n",
    "            \n",
    "    for i in range(l):\n",
    "        if (np.count_nonzero(A_b2[:, i]) > 10 * delta * m):\n",
    "            A_b2[:, i] = 0\n",
    "    \n",
    "    W = A_b2 @ Q\n",
    "    V = np.zeros((n, k))\n",
    "    \n",
    "    print(\"W shape\", W.shape)\n",
    "    print(\"V shape\", V.shape)\n",
    "    \n",
    "    V[:l, :] = (A_b1).T @ W\n",
    "    \n",
    "    ## FIXME: ??? what size ???\n",
    "    I = A_b1 @ V[:l, :]\n",
    "    \n",
    "    ### TODO: Need to remove A_b1, A_b2 and Q from RAM\n",
    "    \n",
    "    for t in range(l, n):\n",
    "        A_t = M[:, t - l]\n",
    "        V[t, :] = (A_t.reshape(1, -1)) @ W\n",
    "        I += (A_t.reshape(-1, 1)) @ V[t, :].reshape(1, -1)\n",
    "        ## TODO: remove A_t from RAM ???\n",
    "\n",
    "    print(\"rank A_b1:\", np.linalg.matrix_rank(A_b1))\n",
    "    print(\"rank A_b2:\", np.linalg.matrix_rank(A_b2))\n",
    "    print(\"rank W:\", np.linalg.matrix_rank(W))\n",
    "    print(\"rank Q:\", np.linalg.matrix_rank(Q))\n",
    "    print(\"rank V:\", np.linalg.matrix_rank(V))\n",
    "    print(\"rank I:\", np.linalg.matrix_rank(I))\n",
    "    \n",
    "    R = sqrtm(V.T @ V)\n",
    "    R = np.linalg.inv(R)\n",
    "    \n",
    "    print(\"R shape\", R.shape)\n",
    "    \n",
    "    U = (1.0/delta) * (I @ R @ R.T)\n",
    "    \n",
    "    ## FIXME: Need to find out what is here in actual algorithm\n",
    "    M_k = U @ V.T\n",
    "    print (M_k.shape)\n",
    "    \n",
    "    return M_k      "
   ]
  },
  {
   "cell_type": "code",
   "execution_count": 434,
   "metadata": {},
   "outputs": [
    {
     "name": "stdout",
     "output_type": "stream",
     "text": [
      "(256, 256)\n",
      "[[0 0 0 ... 0 0 0]\n",
      " [0 0 0 ... 0 0 0]\n",
      " [0 0 0 ... 0 0 0]\n",
      " ...\n",
      " [0 0 0 ... 0 0 0]\n",
      " [0 0 0 ... 0 0 0]\n",
      " [0 0 0 ... 0 0 0]]\n",
      "24485\n",
      "65536\n"
     ]
    }
   ],
   "source": [
    "%matplotlib inline\n",
    "import matplotlib.pyplot as plt\n",
    "from PIL import Image, ImageDraw\n",
    "import requests\n",
    "\n",
    "url = 'https://cdn.icon-icons.com/icons2/10/PNG/256/check_ok_accept_apply_1582.png'\n",
    "img_raw = Image.open(requests.get(url, stream=True).raw)\n",
    "img = np.array(img_raw).astype(np.uint8)\n",
    "\n",
    "img = img[:,:,3]\n",
    "image = np.zeros(img.shape).astype(dtype=np.int)\n",
    "image[img >= 1] = 1\n",
    "\n",
    "\n",
    "print (image.shape)\n",
    "print (image)\n",
    "print (np.count_nonzero(image))\n",
    "print (image.shape[0] * image.shape[1])"
   ]
  },
  {
   "cell_type": "code",
   "execution_count": 435,
   "metadata": {},
   "outputs": [
    {
     "name": "stdout",
     "output_type": "stream",
     "text": [
      "(120, 160)\n"
     ]
    }
   ],
   "source": [
    "import os\n",
    "from PIL import Image\n",
    "import matplotlib.pyplot as plt\n",
    "\n",
    "import numpy as np\n",
    "\n",
    "def load_sequence(path, start, stop):\n",
    "    \n",
    "    files = os.listdir(path)\n",
    "    frame = Image.open(os.path.join(path, files[0]))\n",
    "    frame = frame.convert(\"L\")\n",
    "    frame = np.array(frame) / 255.0\n",
    "    \n",
    "    print(frame.shape)\n",
    "        \n",
    "    frame_size = frame.shape\n",
    "    size = frame.shape[0] * frame.shape[1]\n",
    "\n",
    "    M = np.zeros((size, stop - start), np.float32)\n",
    "    \n",
    "    for i in range(start, stop):\n",
    "        frame = Image.open(os.path.join(path, files[i])).convert(\"L\")\n",
    "        frame = np.array(frame)\n",
    "        M[:, i] = frame.reshape(-1)\n",
    "    \n",
    "    return M, frame_size\n",
    "\n",
    "videos = [\n",
    "            \"./videos/Bootstrap\",\n",
    "            \"./videos/Camouflage\",\n",
    "            \"./videos/ForegroundAperture\",\n",
    "            \"./videos/LightSwitch\",\n",
    "            \"./videos/MovedObject\",\n",
    "            \"./videos/TimeOfDay\",\n",
    "            \"./videos/WavingTrees\"\n",
    "         ]\n",
    "\n",
    "start = 0\n",
    "stop = 200\n",
    "M, frame_size = load_sequence(videos[0], start, stop)"
   ]
  },
  {
   "cell_type": "code",
   "execution_count": 441,
   "metadata": {
    "scrolled": true
   },
   "outputs": [
    {
     "name": "stdout",
     "output_type": "stream",
     "text": [
      "45\n",
      "[[0 0 0 ... 0 0 0]\n",
      " [0 0 0 ... 0 0 0]\n",
      " [0 0 0 ... 0 0 0]\n",
      " ...\n",
      " [0 0 0 ... 0 0 0]\n",
      " [0 0 0 ... 0 0 0]\n",
      " [0 0 0 ... 0 0 0]]\n",
      "k  30\n",
      "l  45\n",
      "M shape  (19200, 200)\n",
      "sample len  45\n",
      "0.05\n",
      "0.05\n",
      "A_b1 shape  (19200, 45)\n",
      "gauss random matrix shape  (45, 30)\n",
      "_C shape  (19200, 45)\n",
      "F shape  (45, 45)\n",
      "QR shape  (45, 30)\n",
      "Q shape  (45, 30)\n",
      "W shape (19200, 30)\n",
      "V shape (200, 30)\n",
      "rank A_b1: 45\n",
      "rank A_b2: 45\n",
      "rank W: 30\n",
      "rank Q: 30\n",
      "rank V: 30\n",
      "rank I: 30\n",
      "(30, 30)\n",
      "R shape (30, 30)\n",
      "(19200, 200)\n"
     ]
    }
   ],
   "source": [
    "delta = 0.05\n",
    "\n",
    "l = 45 #int(1.0 / (delta * np.log(256)))\n",
    "print(l)\n",
    "\n",
    "k = 30\n",
    "\n",
    "print (image)\n",
    "\n",
    "res = SLA(M, k, delta, l)"
   ]
  },
  {
   "cell_type": "code",
   "execution_count": 442,
   "metadata": {},
   "outputs": [
    {
     "name": "stdout",
     "output_type": "stream",
     "text": [
      "30\n"
     ]
    }
   ],
   "source": [
    "print (np.linalg.matrix_rank(res))"
   ]
  },
  {
   "cell_type": "code",
   "execution_count": 443,
   "metadata": {},
   "outputs": [
    {
     "name": "stdout",
     "output_type": "stream",
     "text": [
      "3840000\n"
     ]
    }
   ],
   "source": [
    "print (np.count_nonzero(res))"
   ]
  },
  {
   "cell_type": "code",
   "execution_count": 444,
   "metadata": {},
   "outputs": [
    {
     "data": {
      "text/plain": [
       "dtype('int64')"
      ]
     },
     "execution_count": 444,
     "metadata": {},
     "output_type": "execute_result"
    },
    {
     "data": {
      "image/png": "[encoded data removed]",
      "text/plain": [
       "<Figure size 432x288 with 1 Axes>"
      ]
     },
     "metadata": {},
     "output_type": "display_data"
    }
   ],
   "source": [
    "plt.imshow(image);\n",
    "image.dtype"
   ]
  },
  {
   "cell_type": "code",
   "execution_count": 455,
   "metadata": {},
   "outputs": [
    {
     "name": "stdout",
     "output_type": "stream",
     "text": [
      "[[  16.94082757   34.76183775   44.66835518 ...  940.59969617\n",
      "   896.09817505  829.12580507]\n",
      " [ -17.90034491   29.66089029   32.47976693 ...  832.66696618\n",
      "   857.75959047  751.80288915]\n",
      " [ -33.99686816   50.87238458   25.37887819 ...  725.10541508\n",
      "   779.97203897  712.1553661 ]\n",
      " ...\n",
      " [ 131.64492623  -29.29974321   15.28799953 ... 2256.53463592\n",
      "  2267.49008216 2027.78878134]\n",
      " [  51.43485039 -218.48216622   55.46143747 ... 2368.23212355\n",
      "  2152.44943162 2165.1762623 ]\n",
      " [ 100.38236444    7.72279459   10.66637965 ... 2081.12254005\n",
      "  2054.61942053 1824.77906336]]\n"
     ]
    },
    {
     "data": {
      "image/png": "[encoded data removed]",
      "text/plain": [
       "<Figure size 432x288 with 1 Axes>"
      ]
     },
     "metadata": {},
     "output_type": "display_data"
    }
   ],
   "source": [
    "print(res)\n",
    "plt.imshow(np.abs(res[:, 115].reshape(frame_size)));"
   ]
  },
  {
   "cell_type": "code",
   "execution_count": null,
   "metadata": {},
   "outputs": [],
   "source": []
  }
 ],
 "metadata": {
  "kernelspec": {
   "display_name": "Python36",
   "language": "python",
   "name": "py36"
  },
  "language_info": {
   "codemirror_mode": {
    "name": "ipython",
    "version": 3
   },
   "file_extension": ".py",
   "mimetype": "text/x-python",
   "name": "python",
   "nbconvert_exporter": "python",
   "pygments_lexer": "ipython3",
   "version": "3.6.5"
  }
 },
 "nbformat": 4,
 "nbformat_minor": 2
}
