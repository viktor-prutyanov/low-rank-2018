{
 "cells": [
  {
   "cell_type": "code",
   "execution_count": 1,
   "metadata": {},
   "outputs": [],
   "source": [
    "import numpy as np\n",
    "import scipy as sp"
   ]
  },
  {
   "cell_type": "code",
   "execution_count": 51,
   "metadata": {},
   "outputs": [],
   "source": [
    "def SPCA(C, k):\n",
    "    omega = np.random.randn(C.shape[1], k)\n",
    "    \n",
    "    _C = np.zeros(C.shape)\n",
    "    # Trimming\n",
    "    for i in range (C.shape[0]):\n",
    "        if (np.count_nonzero(C[i,:]) > 10):\n",
    "            _C[i,:] = 0\n",
    "        else:\n",
    "            _C[i,:] = C[i,:]\n",
    "    F = _C.T @ _C - np.diag(np.diag( _C.T @ _C))\n",
    "    \n",
    "    ## TODO: power iteration ???\n",
    "    ## Is log2 ???\n",
    "    Q, R = np.linalg.qr(np.linalg.matrix_power(F, int(5 * np.log2(C.shape[1]))))\n",
    "    \n",
    "    return Q"
   ]
  },
  {
   "cell_type": "code",
   "execution_count": 55,
   "metadata": {},
   "outputs": [],
   "source": [
    "def SLA(M, k, delta, l):\n",
    "    #l_samples = int (np.random.choice(M.shape[1], l))\n",
    "    l_samples = np.random.randint(low = 0, high = M.shape[1], size = l)\n",
    "    \n",
    "    print (l_samples.shape)\n",
    "    \n",
    "    A_b1 = A_b2 = M[:, list(l_samples)]\n",
    "    \n",
    "    Q = SPCA(A_b1, k)\n",
    "    \n",
    "    for i in range (A_b2.shape[0]):\n",
    "        if (np.count_nonzero(A_b2[i,:]) > 2):\n",
    "            A_b2[i,:] = 0\n",
    "    for i in range (A_b2.shape[1]):\n",
    "        if (np.count_nonzero(A_b2[:,i]) > 10 * delta * A_b2.shape[0]):\n",
    "            A_b2[:,i] = 0\n",
    "    \n",
    "    W = A_b2 @ Q\n",
    "    V = np.zeros((M.shape[1], k))\n",
    "    V[0:l,:] = (A_b1).T @ W\n",
    "    \n",
    "    ## FIXME: ??? what size ???\n",
    "    I = np.zeros((M.shape[0], k))\n",
    "    I = A_b1 @ V[l_samples, :]\n",
    "    \n",
    "    ### TODO: Need to remove A_b1, A_b2 and Q from RAM\n",
    "    \n",
    "    for t in range (l+1, M.shape[1]):\n",
    "        #t_samples = np.random.choice(M.shape[1], t)\n",
    "        t_samples = np.random.randint(low = 0, high = M.shape[1], size = t)\n",
    "        A_t = M[:, t_samples]\n",
    "        V[t_samples, :] = (A_t).T @ W\n",
    "        I = I + A_t @ V[t_samples, :]\n",
    "        \n",
    "        ## TODO: remove A_t from RAM\n",
    "    Q, R = np.linalg.qr(V)\n",
    "    U = (1/delta)(I @ R @ R.T)\n",
    "    \n",
    "    \n",
    "    \n",
    "    ## FIXME: Need to find out what is here in actual algorithm\n",
    "    M_k = U @ V.T\n",
    "    print (M_k.shape)\n",
    "    \n",
    "    return M_k\n",
    "        "
   ]
  },
  {
   "cell_type": "code",
   "execution_count": 56,
   "metadata": {},
   "outputs": [
    {
     "name": "stdout",
     "output_type": "stream",
     "text": [
      "(853, 1280)\n"
     ]
    }
   ],
   "source": [
    "%matplotlib inline\n",
    "import matplotlib.pyplot as plt\n",
    "from PIL import Image, ImageDraw\n",
    "import requests\n",
    "\n",
    "url = 'https://cdn.pixabay.com/photo/2013/06/29/21/18/wolf-142173_1280.jpg'\n",
    "\n",
    "image_raw = Image.open(requests.get(url, stream=True).raw).convert(\"L\")\n",
    "image = np.array(image_raw)\n",
    "print (image.shape)"
   ]
  },
  {
   "cell_type": "code",
   "execution_count": 57,
   "metadata": {},
   "outputs": [
    {
     "name": "stdout",
     "output_type": "stream",
     "text": [
      "(128,)\n"
     ]
    },
    {
     "ename": "ValueError",
     "evalue": "shape mismatch: value array of shape (128,128) could not be broadcast to indexing result of shape (128,170)",
     "output_type": "error",
     "traceback": [
      "\u001b[0;31m---------------------------------------------------------------------------\u001b[0m",
      "\u001b[0;31mValueError\u001b[0m                                Traceback (most recent call last)",
      "\u001b[0;32m<ipython-input-57-6f4c2172202a>\u001b[0m in \u001b[0;36m<module>\u001b[0;34m\u001b[0m\n\u001b[1;32m      1\u001b[0m \u001b[0ml\u001b[0m \u001b[0;34m=\u001b[0m \u001b[0mint\u001b[0m\u001b[0;34m(\u001b[0m\u001b[0mimage\u001b[0m\u001b[0;34m.\u001b[0m\u001b[0mshape\u001b[0m\u001b[0;34m[\u001b[0m\u001b[0;36m1\u001b[0m\u001b[0;34m]\u001b[0m\u001b[0;34m/\u001b[0m\u001b[0;36m10\u001b[0m\u001b[0;34m)\u001b[0m\u001b[0;34m\u001b[0m\u001b[0m\n\u001b[1;32m      2\u001b[0m \u001b[0mdelta\u001b[0m \u001b[0;34m=\u001b[0m \u001b[0mint\u001b[0m \u001b[0;34m(\u001b[0m\u001b[0;36m1\u001b[0m\u001b[0;34m/\u001b[0m\u001b[0;34m(\u001b[0m\u001b[0ml\u001b[0m \u001b[0;34m*\u001b[0m \u001b[0mnp\u001b[0m\u001b[0;34m.\u001b[0m\u001b[0mlog2\u001b[0m\u001b[0;34m(\u001b[0m\u001b[0mimage\u001b[0m\u001b[0;34m.\u001b[0m\u001b[0mshape\u001b[0m\u001b[0;34m[\u001b[0m\u001b[0;36m0\u001b[0m\u001b[0;34m]\u001b[0m\u001b[0;34m)\u001b[0m\u001b[0;34m)\u001b[0m\u001b[0;34m)\u001b[0m\u001b[0;34m\u001b[0m\u001b[0m\n\u001b[0;32m----> 3\u001b[0;31m \u001b[0mM\u001b[0m \u001b[0;34m=\u001b[0m \u001b[0mSLA\u001b[0m\u001b[0;34m(\u001b[0m\u001b[0mimage\u001b[0m\u001b[0;34m,\u001b[0m \u001b[0mint\u001b[0m \u001b[0;34m(\u001b[0m\u001b[0mnp\u001b[0m\u001b[0;34m.\u001b[0m\u001b[0mlinalg\u001b[0m\u001b[0;34m.\u001b[0m\u001b[0mmatrix_rank\u001b[0m\u001b[0;34m(\u001b[0m\u001b[0mimage\u001b[0m\u001b[0;34m)\u001b[0m \u001b[0;34m/\u001b[0m \u001b[0;36m5\u001b[0m\u001b[0;34m)\u001b[0m\u001b[0;34m,\u001b[0m \u001b[0mdelta\u001b[0m\u001b[0;34m,\u001b[0m \u001b[0ml\u001b[0m\u001b[0;34m)\u001b[0m\u001b[0;34m\u001b[0m\u001b[0m\n\u001b[0m",
      "\u001b[0;32m<ipython-input-55-9ecd8b0cc79d>\u001b[0m in \u001b[0;36mSLA\u001b[0;34m(M, k, delta, l)\u001b[0m\n\u001b[1;32m     18\u001b[0m     \u001b[0mW\u001b[0m \u001b[0;34m=\u001b[0m \u001b[0mA_b2\u001b[0m \u001b[0;34m@\u001b[0m \u001b[0mQ\u001b[0m\u001b[0;34m\u001b[0m\u001b[0m\n\u001b[1;32m     19\u001b[0m     \u001b[0mV\u001b[0m \u001b[0;34m=\u001b[0m \u001b[0mnp\u001b[0m\u001b[0;34m.\u001b[0m\u001b[0mzeros\u001b[0m\u001b[0;34m(\u001b[0m\u001b[0;34m(\u001b[0m\u001b[0mM\u001b[0m\u001b[0;34m.\u001b[0m\u001b[0mshape\u001b[0m\u001b[0;34m[\u001b[0m\u001b[0;36m0\u001b[0m\u001b[0;34m]\u001b[0m\u001b[0;34m,\u001b[0m \u001b[0mk\u001b[0m\u001b[0;34m)\u001b[0m\u001b[0;34m)\u001b[0m\u001b[0;34m\u001b[0m\u001b[0m\n\u001b[0;32m---> 20\u001b[0;31m     \u001b[0mV\u001b[0m\u001b[0;34m[\u001b[0m\u001b[0ml_samples\u001b[0m\u001b[0;34m,\u001b[0m\u001b[0;34m:\u001b[0m\u001b[0;34m]\u001b[0m \u001b[0;34m=\u001b[0m \u001b[0;34m(\u001b[0m\u001b[0mA_b1\u001b[0m\u001b[0;34m)\u001b[0m\u001b[0;34m.\u001b[0m\u001b[0mT\u001b[0m \u001b[0;34m@\u001b[0m \u001b[0mW\u001b[0m\u001b[0;34m\u001b[0m\u001b[0m\n\u001b[0m\u001b[1;32m     21\u001b[0m \u001b[0;34m\u001b[0m\u001b[0m\n\u001b[1;32m     22\u001b[0m     \u001b[0;31m## FIXME: ??? what size ???\u001b[0m\u001b[0;34m\u001b[0m\u001b[0;34m\u001b[0m\u001b[0m\n",
      "\u001b[0;31mValueError\u001b[0m: shape mismatch: value array of shape (128,128) could not be broadcast to indexing result of shape (128,170)"
     ]
    }
   ],
   "source": [
    "l = int(image.shape[1]/10)\n",
    "delta = int (1/(l * np.log2(image.shape[0])))\n",
    "M = SLA(image, int (np.linalg.matrix_rank(image) / 5), delta, l)"
   ]
  },
  {
   "cell_type": "code",
   "execution_count": null,
   "metadata": {},
   "outputs": [],
   "source": []
  },
  {
   "cell_type": "code",
   "execution_count": null,
   "metadata": {},
   "outputs": [],
   "source": []
  }
 ],
 "metadata": {
  "kernelspec": {
   "display_name": "Python 3",
   "language": "python",
   "name": "python3"
  },
  "language_info": {
   "codemirror_mode": {
    "name": "ipython",
    "version": 3
   },
   "file_extension": ".py",
   "mimetype": "text/x-python",
   "name": "python",
   "nbconvert_exporter": "python",
   "pygments_lexer": "ipython3",
   "version": "3.6.5"
  }
 },
 "nbformat": 4,
 "nbformat_minor": 2
}
