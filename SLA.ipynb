{
 "cells": [
  {
   "cell_type": "code",
   "execution_count": 4,
   "metadata": {},
   "outputs": [],
   "source": [
    "import numpy as np\n",
    "import scipy as sp"
   ]
  },
  {
   "cell_type": "code",
   "execution_count": 56,
   "metadata": {},
   "outputs": [],
   "source": [
    "def SPCA(C, k):\n",
    "    omega = np.random.randn(C.shape[1], k)\n",
    "    \n",
    "    print (\"gauss random matrix shape \", omega.shape)\n",
    "    \n",
    "    _C = np.zeros(C.shape)\n",
    "    # Trimming\n",
    "    for i in range (C.shape[0]):\n",
    "        if (np.count_nonzero(C[i,:]) > 10):\n",
    "            _C[i,:] = 0\n",
    "        else:\n",
    "            _C[i,:] = C[i,:]\n",
    "    print (\"_C shape \", _C.shape)        \n",
    "    \n",
    "    F = _C.T @ _C - np.diag(np.diag( _C.T @ _C))\n",
    "    \n",
    "    print (\"F shape \", F.shape)\n",
    "    \n",
    "    QR = (np.linalg.matrix_power(F, int(5 * np.log2(C.shape[1]))) @ omega)\n",
    "    \n",
    "    print (\"QR shape \", QR.shape)\n",
    "    \n",
    "    ## TODO: power iteration ???\n",
    "    ## Is log2 ???\n",
    "    Q, R = np.linalg.qr(QR)\n",
    "    \n",
    "    return Q"
   ]
  },
  {
   "cell_type": "code",
   "execution_count": 101,
   "metadata": {},
   "outputs": [],
   "source": [
    "def SLA(M, k, delta, l):\n",
    "    \n",
    "    print (\"k \", k)\n",
    "    print (\"l \", l)\n",
    "    print (\"M shape \", M.shape)\n",
    "    \n",
    "    \n",
    "    #l_samples = int (np.random.choice(M.shape[1], l))\n",
    "    l_samples = np.random.randint(low = 0, high = M.shape[1], size = l)\n",
    "    \n",
    "    print (\"sample len \", len(l_samples))\n",
    "        \n",
    "    A_b1 = A_b2 = M[:, list(l_samples)]\n",
    "    \n",
    "    print (\"A_b1 shape \", A_b1.shape)\n",
    "    \n",
    "    \n",
    "    _M = np.delete(M, list(l_samples), 1)\n",
    "    \n",
    "    Q = SPCA(A_b1, k)\n",
    "    \n",
    "    print (\"Q shape \", Q.shape)\n",
    "    \n",
    "    for i in range (A_b2.shape[0]):\n",
    "        if (np.count_nonzero(A_b2[i,:]) > 2):\n",
    "            A_b2[i,:] = 0\n",
    "    for i in range (A_b2.shape[1]):\n",
    "        if (np.count_nonzero(A_b2[:,i]) > 10 * delta * A_b2.shape[0]):\n",
    "            A_b2[:,i] = 0\n",
    "    \n",
    "    W = A_b2 @ Q\n",
    "    V = np.zeros((M.shape[1], k))\n",
    "    \n",
    "    print (A_b1.shape)\n",
    "    print (W.shape)\n",
    "    print ((V[0:l,:]).shape)\n",
    "    \n",
    "    V[0:l,:] = (A_b1).T @ W\n",
    "    \n",
    "    ## FIXME: ??? what size ???\n",
    "    I = np.zeros((M.shape[0], k))\n",
    "    I = A_b1 @ V[0:l,:]\n",
    "    \n",
    "    ### TODO: Need to remove A_b1, A_b2 and Q from RAM\n",
    "    \n",
    "    for t in range (M.shape[1] - l):\n",
    "        A_t = _M[:, t]\n",
    "        V[t, :] = (A_t.T) @ W\n",
    "        I += (A_t.reshape(-1, 1)) @ V[t,:].reshape(-1, 1).T\n",
    "        ## TODO: remove A_t from RAM ???\n",
    "    \n",
    "    Q, R = np.linalg.qr(V)\n",
    "    U = (1/delta)*(I @ R @ R.T)\n",
    "    \n",
    "    ## FIXME: Need to find out what is here in actual algorithm\n",
    "    M_k = U @ V.T\n",
    "    print (M_k.shape)\n",
    "    \n",
    "    return M_k\n",
    "        "
   ]
  },
  {
   "cell_type": "code",
   "execution_count": 102,
   "metadata": {},
   "outputs": [
    {
     "name": "stdout",
     "output_type": "stream",
     "text": [
      "(853, 1280)\n"
     ]
    }
   ],
   "source": [
    "%matplotlib inline\n",
    "import matplotlib.pyplot as plt\n",
    "from PIL import Image, ImageDraw\n",
    "import requests\n",
    "\n",
    "url = 'https://cdn.pixabay.com/photo/2013/06/29/21/18/wolf-142173_1280.jpg'\n",
    "\n",
    "image_raw = Image.open(requests.get(url, stream=True).raw).convert(\"L\")\n",
    "image = np.array(image_raw)\n",
    "print (image.shape)"
   ]
  },
  {
   "cell_type": "code",
   "execution_count": 103,
   "metadata": {},
   "outputs": [
    {
     "name": "stdout",
     "output_type": "stream",
     "text": [
      "k  85\n",
      "l  128\n",
      "M shape  (853, 1280)\n",
      "sample len  128\n",
      "A_b1 shape  (853, 128)\n",
      "gauss random matrix shape  (128, 85)\n",
      "_C shape  (853, 128)\n",
      "F shape  (128, 128)\n",
      "QR shape  (128, 85)\n",
      "Shape of my heart  (128, 85)\n",
      "Q shape  (128, 85)\n",
      "(853, 128)\n",
      "(853, 85)\n",
      "(128, 85)\n",
      "(853, 1280)\n"
     ]
    }
   ],
   "source": [
    "l = int(image.shape[1]/10)\n",
    "#print (l)\n",
    "delta = 1/(l * np.log2(image.shape[0]))\n",
    "M = SLA(image, int (np.linalg.matrix_rank(image) / 10), delta, l)"
   ]
  },
  {
   "cell_type": "code",
   "execution_count": 104,
   "metadata": {},
   "outputs": [
    {
     "name": "stdout",
     "output_type": "stream",
     "text": [
      "0\n"
     ]
    }
   ],
   "source": [
    "print (np.linalg.matrix_rank(M))"
   ]
  },
  {
   "cell_type": "code",
   "execution_count": null,
   "metadata": {},
   "outputs": [],
   "source": []
  }
 ],
 "metadata": {
  "kernelspec": {
   "display_name": "Python 3",
   "language": "python",
   "name": "python3"
  },
  "language_info": {
   "codemirror_mode": {
    "name": "ipython",
    "version": 3
   },
   "file_extension": ".py",
   "mimetype": "text/x-python",
   "name": "python",
   "nbconvert_exporter": "python",
   "pygments_lexer": "ipython3",
   "version": "3.6.5"
  }
 },
 "nbformat": 4,
 "nbformat_minor": 2
}
