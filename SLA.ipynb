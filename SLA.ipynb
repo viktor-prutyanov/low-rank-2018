{
 "cells": [
  {
   "cell_type": "code",
   "execution_count": 1,
   "metadata": {},
   "outputs": [],
   "source": [
    "import numpy as np\n",
    "import scipy as sp"
   ]
  },
  {
   "cell_type": "code",
   "execution_count": 60,
   "metadata": {},
   "outputs": [],
   "source": [
    "def sample_entry(M, cols, delta):\n",
    "    \n",
    "    print (delta)\n",
    "    \n",
    "    for i in cols:\n",
    "        sample = np.random.choice(2, M.shape[1], p=[1 - delta, delta])\n",
    "        new_col = np.multiply(M[:, i], sample)\n",
    "        M[:, i] = new_col\n",
    "\n",
    "    return M\n",
    "\n",
    "#M = np.array([[1 , 1, 1],[2, 2, 2], [3, 3, 3]])\n",
    "#print (M)\n",
    "\n",
    "#new_M = sample_entry(M, [0, 2], 0.5)\n",
    "#print (new_M)"
   ]
  },
  {
   "cell_type": "code",
   "execution_count": 61,
   "metadata": {},
   "outputs": [],
   "source": [
    "def SPCA(C, k):\n",
    "    omega = np.random.randn(C.shape[1], k)\n",
    "    \n",
    "    print (\"gauss random matrix shape \", omega.shape)\n",
    "    \n",
    "    _C = np.zeros(C.shape)\n",
    "    # Trimming\n",
    "    for i in range (C.shape[0]):\n",
    "        if (np.count_nonzero(C[i,:]) > 10):\n",
    "            _C[i,:] = 0\n",
    "        else:\n",
    "            _C[i,:] = C[i,:]\n",
    "    print (\"_C shape \", _C.shape)        \n",
    "    \n",
    "    F = _C.T @ _C - np.diag(np.diag( _C.T @ _C))\n",
    "    \n",
    "    print (\"F shape \", F.shape)\n",
    "    \n",
    "    QR = (np.linalg.matrix_power(F, int(5 * np.log2(C.shape[1]))) @ omega)\n",
    "    \n",
    "    print (\"QR shape \", QR.shape)\n",
    "    \n",
    "    ## TODO: power iteration ???\n",
    "    ## Is log2 ???\n",
    "    Q, R = np.linalg.qr(QR)\n",
    "    \n",
    "    return Q"
   ]
  },
  {
   "cell_type": "code",
   "execution_count": 62,
   "metadata": {},
   "outputs": [],
   "source": [
    "def SLA(M, k, delta, l):\n",
    "    \n",
    "    print (\"k \", k)\n",
    "    print (\"l \", l)\n",
    "    print (\"M shape \", M.shape)\n",
    "    \n",
    "    \n",
    "    #l_samples = int (np.random.choice(M.shape[1], l))\n",
    "    l_samples = list(np.random.randint(low = 0, high = M.shape[1], size = l))\n",
    "    \n",
    "    print (\"sample len \", len(l_samples))\n",
    "        \n",
    "    sampled_M1 = sample_entry(M, l_samples, delta)\n",
    "    sampled_M2 = sample_entry(M, l_samples, delta)\n",
    "    \n",
    "    A_b1 = sampled_M1[:, list(l_samples)]\n",
    "    A_b2 = sampled_M2[:, list(l_samples)]\n",
    "    \n",
    "    print (A_b1)\n",
    "    print (A_b2)\n",
    "    \n",
    "    print (\"A_b1 shape \", A_b1.shape)\n",
    "    \n",
    "    \n",
    "    _M = np.delete(M, list(l_samples), 1)\n",
    "    \n",
    "    Q = SPCA(A_b1, k)\n",
    "    \n",
    "    print (\"Q shape \", Q.shape)\n",
    "    \n",
    "    for i in range (A_b2.shape[0]):\n",
    "        if (np.count_nonzero(A_b2[i,:]) > 2):\n",
    "            A_b2[i,:] = 0\n",
    "    for i in range (A_b2.shape[1]):\n",
    "        if (np.count_nonzero(A_b2[:,i]) > 10 * delta * A_b2.shape[0]):\n",
    "            A_b2[:,i] = 0\n",
    "    \n",
    "    W = A_b2 @ Q\n",
    "    V = np.zeros((M.shape[1], k))\n",
    "    \n",
    "    print (A_b1.shape)\n",
    "    print (W.shape)\n",
    "    print ((V[0:l,:]).shape)\n",
    "    \n",
    "    V[0:l,:] = (A_b1).T @ W\n",
    "    \n",
    "    \n",
    "    #print (A_b1.T)\n",
    "    #print (W)\n",
    "    #print (V)\n",
    "    \n",
    "    ## FIXME: ??? what size ???\n",
    "    I = np.zeros((M.shape[0], k))\n",
    "    I = A_b1 @ V[0:l,:]\n",
    "    \n",
    "    ### TODO: Need to remove A_b1, A_b2 and Q from RAM\n",
    "    \n",
    "    for t in range (M.shape[1] - l):\n",
    "        A_t = _M[:, t]\n",
    "        V[t, :] = (A_t.T) @ W\n",
    "        I += (A_t.reshape(-1, 1)) @ V[t,:].reshape(-1, 1).T\n",
    "        ## TODO: remove A_t from RAM ???\n",
    "    \n",
    "    Q, R = np.linalg.qr(V)\n",
    "    U = (1/delta)*(I @ R @ R.T)\n",
    "    \n",
    "    print (V)\n",
    "    \n",
    "    print (U)\n",
    "    \n",
    "    ## FIXME: Need to find out what is here in actual algorithm\n",
    "    M_k = U @ V.T\n",
    "    print (M_k.shape)\n",
    "    \n",
    "    return M_k\n",
    "        "
   ]
  },
  {
   "cell_type": "code",
   "execution_count": 63,
   "metadata": {},
   "outputs": [
    {
     "name": "stdout",
     "output_type": "stream",
     "text": [
      "(256, 256)\n",
      "[[0 0 0 ... 0 0 0]\n",
      " [0 0 0 ... 0 0 0]\n",
      " [0 0 0 ... 0 0 0]\n",
      " ...\n",
      " [0 0 0 ... 0 0 0]\n",
      " [0 0 0 ... 0 0 0]\n",
      " [0 0 0 ... 0 0 0]]\n",
      "24485\n",
      "65536\n"
     ]
    }
   ],
   "source": [
    "%matplotlib inline\n",
    "import matplotlib.pyplot as plt\n",
    "from PIL import Image, ImageDraw\n",
    "import requests\n",
    "\n",
    "url = 'https://cdn.icon-icons.com/icons2/10/PNG/256/check_ok_accept_apply_1582.png'\n",
    "img_raw = Image.open(requests.get(url, stream=True).raw)\n",
    "img = np.array(img_raw).astype(np.uint8)\n",
    "\n",
    "img = img[:,:,3]\n",
    "image = np.zeros(img.shape).astype(dtype=np.int)\n",
    "image[img >= 1] = 1\n",
    "\n",
    "\n",
    "print (image.shape)\n",
    "print (image)\n",
    "print (np.count_nonzero(image))\n",
    "print (image.shape[0] * image.shape[1])"
   ]
  },
  {
   "cell_type": "code",
   "execution_count": 64,
   "metadata": {},
   "outputs": [
    {
     "name": "stdout",
     "output_type": "stream",
     "text": [
      "[[0 0 0 ... 0 0 0]\n",
      " [0 0 0 ... 0 0 0]\n",
      " [0 0 0 ... 0 0 0]\n",
      " ...\n",
      " [0 0 0 ... 0 0 0]\n",
      " [0 0 0 ... 0 0 0]\n",
      " [0 0 0 ... 0 0 0]]\n",
      "k  23\n",
      "l  25\n",
      "M shape  (256, 256)\n",
      "sample len  25\n",
      "0.005\n",
      "0.005\n",
      "[[0 0 0 ... 0 0 0]\n",
      " [0 0 0 ... 0 0 0]\n",
      " [0 0 0 ... 0 0 0]\n",
      " ...\n",
      " [0 0 0 ... 0 0 0]\n",
      " [0 0 0 ... 0 0 0]\n",
      " [0 0 0 ... 0 0 0]]\n",
      "[[0 0 0 ... 0 0 0]\n",
      " [0 0 0 ... 0 0 0]\n",
      " [0 0 0 ... 0 0 0]\n",
      " ...\n",
      " [0 0 0 ... 0 0 0]\n",
      " [0 0 0 ... 0 0 0]\n",
      " [0 0 0 ... 0 0 0]]\n",
      "A_b1 shape  (256, 25)\n",
      "gauss random matrix shape  (25, 23)\n",
      "_C shape  (256, 25)\n",
      "F shape  (25, 25)\n",
      "QR shape  (25, 23)\n",
      "Q shape  (25, 23)\n",
      "(256, 25)\n",
      "(256, 23)\n",
      "(25, 23)\n",
      "[[0. 0. 0. ... 0. 0. 0.]\n",
      " [0. 0. 0. ... 0. 0. 0.]\n",
      " [0. 0. 0. ... 0. 0. 0.]\n",
      " ...\n",
      " [0. 0. 0. ... 0. 0. 0.]\n",
      " [0. 0. 0. ... 0. 0. 0.]\n",
      " [0. 0. 0. ... 0. 0. 0.]]\n",
      "[[0. 0. 0. ... 0. 0. 0.]\n",
      " [0. 0. 0. ... 0. 0. 0.]\n",
      " [0. 0. 0. ... 0. 0. 0.]\n",
      " ...\n",
      " [0. 0. 0. ... 0. 0. 0.]\n",
      " [0. 0. 0. ... 0. 0. 0.]\n",
      " [0. 0. 0. ... 0. 0. 0.]]\n",
      "(256, 256)\n"
     ]
    }
   ],
   "source": [
    "l = int(image.shape[1]/10)\n",
    "delta = 1/(l * np.log2(image.shape[0]))\n",
    "\n",
    "print (image)\n",
    "\n",
    "M = SLA(image, int (np.linalg.matrix_rank(image) / 10), delta, l)"
   ]
  },
  {
   "cell_type": "code",
   "execution_count": 58,
   "metadata": {},
   "outputs": [
    {
     "name": "stdout",
     "output_type": "stream",
     "text": [
      "0\n"
     ]
    }
   ],
   "source": [
    "print (np.linalg.matrix_rank(M))"
   ]
  },
  {
   "cell_type": "code",
   "execution_count": 59,
   "metadata": {},
   "outputs": [
    {
     "name": "stdout",
     "output_type": "stream",
     "text": [
      "0\n"
     ]
    }
   ],
   "source": [
    "print (np.count_nonzero(M))"
   ]
  },
  {
   "cell_type": "code",
   "execution_count": 51,
   "metadata": {},
   "outputs": [
    {
     "data": {
      "text/plain": [
       "<matplotlib.image.AxesImage at 0x115e3afd0>"
      ]
     },
     "execution_count": 51,
     "metadata": {},
     "output_type": "execute_result"
    },
    {
     "data": {
      "image/png": "[encoded data removed]",
      "text/plain": [
       "<Figure size 432x288 with 1 Axes>"
      ]
     },
     "metadata": {
      "needs_background": "light"
     },
     "output_type": "display_data"
    }
   ],
   "source": [
    "plt.imshow(image)"
   ]
  },
  {
   "cell_type": "code",
   "execution_count": 52,
   "metadata": {},
   "outputs": [
    {
     "data": {
      "text/plain": [
       "<matplotlib.image.AxesImage at 0x115fb5b00>"
      ]
     },
     "execution_count": 52,
     "metadata": {},
     "output_type": "execute_result"
    },
    {
     "data": {
      "image/png": "[encoded data removed]",
      "text/plain": [
       "<Figure size 432x288 with 1 Axes>"
      ]
     },
     "metadata": {
      "needs_background": "light"
     },
     "output_type": "display_data"
    }
   ],
   "source": [
    "plt.imshow(M)"
   ]
  },
  {
   "cell_type": "code",
   "execution_count": null,
   "metadata": {},
   "outputs": [],
   "source": []
  }
 ],
 "metadata": {
  "kernelspec": {
   "display_name": "Python 3",
   "language": "python",
   "name": "python3"
  },
  "language_info": {
   "codemirror_mode": {
    "name": "ipython",
    "version": 3
   },
   "file_extension": ".py",
   "mimetype": "text/x-python",
   "name": "python",
   "nbconvert_exporter": "python",
   "pygments_lexer": "ipython3",
   "version": "3.6.5"
  }
 },
 "nbformat": 4,
 "nbformat_minor": 2
}
